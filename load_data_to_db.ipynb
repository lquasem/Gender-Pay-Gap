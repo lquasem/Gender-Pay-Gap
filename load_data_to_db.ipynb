{
 "cells": [
  {
   "cell_type": "code",
   "execution_count": 68,
   "metadata": {},
   "outputs": [],
   "source": [
    "# Dependencies\n",
    "# ----------------------------------\n",
    "# Imports the method used for connecting to DBs\n",
    "from sqlalchemy import create_engine\n",
    "from sqlalchemy.orm import sessionmaker\n",
    "from sqlalchemy import MetaData\n",
    "from sqlalchemy.orm import mapper\n",
    "from config import password\n",
    "\n",
    "# Imports the methods needed to abstract classes into tables\n",
    "from sqlalchemy.ext.declarative import declarative_base\n",
    "\n",
    "# Allow us to declare column types\n",
    "from sqlalchemy import Column, Integer, String, Float \n",
    "\n",
    "import pandas as pd\n"
   ]
  },
  {
   "cell_type": "code",
   "execution_count": 100,
   "metadata": {},
   "outputs": [
    {
     "data": {
      "text/html": [
       "<div>\n",
       "<style scoped>\n",
       "    .dataframe tbody tr th:only-of-type {\n",
       "        vertical-align: middle;\n",
       "    }\n",
       "\n",
       "    .dataframe tbody tr th {\n",
       "        vertical-align: top;\n",
       "    }\n",
       "\n",
       "    .dataframe thead th {\n",
       "        text-align: right;\n",
       "    }\n",
       "</style>\n",
       "<table border=\"1\" class=\"dataframe\">\n",
       "  <thead>\n",
       "    <tr style=\"text-align: right;\">\n",
       "      <th></th>\n",
       "      <th>categoryindex</th>\n",
       "      <th>category</th>\n",
       "      <th>total_workers</th>\n",
       "      <th>median_weekly_earnings</th>\n",
       "      <th>year</th>\n",
       "    </tr>\n",
       "    <tr>\n",
       "      <th>id</th>\n",
       "      <th></th>\n",
       "      <th></th>\n",
       "      <th></th>\n",
       "      <th></th>\n",
       "      <th></th>\n",
       "    </tr>\n",
       "  </thead>\n",
       "  <tbody>\n",
       "    <tr>\n",
       "      <th>0</th>\n",
       "      <td>Total</td>\n",
       "      <td>Total</td>\n",
       "      <td>113272</td>\n",
       "      <td>860</td>\n",
       "      <td>2017</td>\n",
       "    </tr>\n",
       "    <tr>\n",
       "      <th>1</th>\n",
       "      <td>Total_Men</td>\n",
       "      <td>Men</td>\n",
       "      <td>62980</td>\n",
       "      <td>941</td>\n",
       "      <td>2017</td>\n",
       "    </tr>\n",
       "    <tr>\n",
       "      <th>2</th>\n",
       "      <td>Total_Women</td>\n",
       "      <td>Women</td>\n",
       "      <td>50291</td>\n",
       "      <td>770</td>\n",
       "      <td>2017</td>\n",
       "    </tr>\n",
       "    <tr>\n",
       "      <th>3</th>\n",
       "      <td>White_Total</td>\n",
       "      <td>White</td>\n",
       "      <td>87730</td>\n",
       "      <td>890</td>\n",
       "      <td>2017</td>\n",
       "    </tr>\n",
       "    <tr>\n",
       "      <th>4</th>\n",
       "      <td>White_Men</td>\n",
       "      <td>Men</td>\n",
       "      <td>50003</td>\n",
       "      <td>971</td>\n",
       "      <td>2017</td>\n",
       "    </tr>\n",
       "  </tbody>\n",
       "</table>\n",
       "</div>"
      ],
      "text/plain": [
       "   categoryindex category  total_workers  median_weekly_earnings  year\n",
       "id                                                                    \n",
       "0          Total    Total         113272                     860  2017\n",
       "1      Total_Men      Men          62980                     941  2017\n",
       "2    Total_Women    Women          50291                     770  2017\n",
       "3    White_Total    White          87730                     890  2017\n",
       "4      White_Men      Men          50003                     971  2017"
      ]
     },
     "execution_count": 100,
     "metadata": {},
     "output_type": "execute_result"
    }
   ],
   "source": [
    "path = \"cleaned_data/gender_race.csv\"\n",
    "pay_gap_by_gender_table = pd.read_csv(path, encoding=\"UTF-8\")\n",
    "pay_gap_by_gender_table.index.name = 'id'\n",
    "pay_gap_by_gender_table.head()"
   ]
  },
  {
   "cell_type": "code",
   "execution_count": 102,
   "metadata": {},
   "outputs": [],
   "source": [
    "engine = create_engine('postgresql://postgres:'+ 'database' + '@localhost:5432/gender_pay_gap')\n"
   ]
  },
  {
   "cell_type": "code",
   "execution_count": 103,
   "metadata": {},
   "outputs": [
    {
     "name": "stdout",
     "output_type": "stream",
     "text": [
      "immutabledict({'pay_gap_by_race': Table('pay_gap_by_race', MetaData(bind=None), Column('id', INTEGER(), table=<pay_gap_by_race>, primary_key=True, nullable=False), Column('categoryindex', VARCHAR(length=50), table=<pay_gap_by_race>, nullable=False), Column('category', VARCHAR(length=50), table=<pay_gap_by_race>), Column('total_workers', INTEGER(), table=<pay_gap_by_race>), Column('median_weekly_earnings', INTEGER(), table=<pay_gap_by_race>), Column('year', INTEGER(), table=<pay_gap_by_race>), schema=None), 'pay_gap_by_education': Table('pay_gap_by_education', MetaData(bind=None), Column('id', INTEGER(), table=<pay_gap_by_education>, primary_key=True, nullable=False), Column('education_level', VARCHAR(length=50), table=<pay_gap_by_education>, nullable=False), Column('median_weekly_earnings_in_2018', INTEGER(), table=<pay_gap_by_education>), Column('median_weekly_earnings_in_2017', INTEGER(), table=<pay_gap_by_education>), Column('median_weekly_earnings_in_2016', INTEGER(), table=<pay_gap_by_education>), Column('gender', VARCHAR(length=50), table=<pay_gap_by_education>), schema=None)})\n"
     ]
    }
   ],
   "source": [
    "#engine.table_names()\n",
    "metadata = MetaData()\n",
    "metadata.reflect(bind=engine)\n",
    "print(metadata.tables)"
   ]
  },
  {
   "cell_type": "code",
   "execution_count": 105,
   "metadata": {},
   "outputs": [],
   "source": [
    "pay_gap_by_gender_table.to_sql(name='pay_gap_by_race', con=engine, if_exists='append', index=True)"
   ]
  },
  {
   "cell_type": "code",
   "execution_count": 106,
   "metadata": {},
   "outputs": [
    {
     "data": {
      "text/html": [
       "<div>\n",
       "<style scoped>\n",
       "    .dataframe tbody tr th:only-of-type {\n",
       "        vertical-align: middle;\n",
       "    }\n",
       "\n",
       "    .dataframe tbody tr th {\n",
       "        vertical-align: top;\n",
       "    }\n",
       "\n",
       "    .dataframe thead th {\n",
       "        text-align: right;\n",
       "    }\n",
       "</style>\n",
       "<table border=\"1\" class=\"dataframe\">\n",
       "  <thead>\n",
       "    <tr style=\"text-align: right;\">\n",
       "      <th></th>\n",
       "      <th>By education</th>\n",
       "      <th>Median weekly earnings in 2018</th>\n",
       "      <th>Median weekly earnings in 2017</th>\n",
       "      <th>Median weekly earnings in 2016</th>\n",
       "      <th>Gender</th>\n",
       "    </tr>\n",
       "    <tr>\n",
       "      <th>id</th>\n",
       "      <th></th>\n",
       "      <th></th>\n",
       "      <th></th>\n",
       "      <th></th>\n",
       "      <th></th>\n",
       "    </tr>\n",
       "  </thead>\n",
       "  <tbody>\n",
       "    <tr>\n",
       "      <th>0</th>\n",
       "      <td>Men, 25 years and over</td>\n",
       "      <td>1026</td>\n",
       "      <td>996</td>\n",
       "      <td>969</td>\n",
       "      <td>Male</td>\n",
       "    </tr>\n",
       "    <tr>\n",
       "      <th>1</th>\n",
       "      <td>Less than a high school diploma</td>\n",
       "      <td>607</td>\n",
       "      <td>584</td>\n",
       "      <td>551</td>\n",
       "      <td>Male</td>\n",
       "    </tr>\n",
       "    <tr>\n",
       "      <th>2</th>\n",
       "      <td>High school graduates, no college(3)</td>\n",
       "      <td>819</td>\n",
       "      <td>797</td>\n",
       "      <td>769</td>\n",
       "      <td>Male</td>\n",
       "    </tr>\n",
       "    <tr>\n",
       "      <th>3</th>\n",
       "      <td>Some college or associate degree</td>\n",
       "      <td>951</td>\n",
       "      <td>917</td>\n",
       "      <td>896</td>\n",
       "      <td>Male</td>\n",
       "    </tr>\n",
       "    <tr>\n",
       "      <th>4</th>\n",
       "      <td>Some college, no degree</td>\n",
       "      <td>918</td>\n",
       "      <td>886</td>\n",
       "      <td>861</td>\n",
       "      <td>Male</td>\n",
       "    </tr>\n",
       "  </tbody>\n",
       "</table>\n",
       "</div>"
      ],
      "text/plain": [
       "                            By education  Median weekly earnings in 2018  \\\n",
       "id                                                                         \n",
       "0                 Men, 25 years and over                            1026   \n",
       "1        Less than a high school diploma                             607   \n",
       "2   High school graduates, no college(3)                             819   \n",
       "3       Some college or associate degree                             951   \n",
       "4                Some college, no degree                             918   \n",
       "\n",
       "    Median weekly earnings in 2017  Median weekly earnings in 2016 Gender  \n",
       "id                                                                         \n",
       "0                              996                             969   Male  \n",
       "1                              584                             551   Male  \n",
       "2                              797                             769   Male  \n",
       "3                              917                             896   Male  \n",
       "4                              886                             861   Male  "
      ]
     },
     "execution_count": 106,
     "metadata": {},
     "output_type": "execute_result"
    }
   ],
   "source": [
    "path_1 = \"cleaned_data/by_education_2016-2018.csv\"\n",
    "pay_gap_by_education = pd.read_csv(path_1, encoding=\"UTF-8\")\n",
    "pay_gap_by_education.index.name = 'id'\n",
    "pay_gap_by_education.head()"
   ]
  },
  {
   "cell_type": "code",
   "execution_count": 107,
   "metadata": {},
   "outputs": [
    {
     "data": {
      "text/html": [
       "<div>\n",
       "<style scoped>\n",
       "    .dataframe tbody tr th:only-of-type {\n",
       "        vertical-align: middle;\n",
       "    }\n",
       "\n",
       "    .dataframe tbody tr th {\n",
       "        vertical-align: top;\n",
       "    }\n",
       "\n",
       "    .dataframe thead th {\n",
       "        text-align: right;\n",
       "    }\n",
       "</style>\n",
       "<table border=\"1\" class=\"dataframe\">\n",
       "  <thead>\n",
       "    <tr style=\"text-align: right;\">\n",
       "      <th></th>\n",
       "      <th>education_level</th>\n",
       "      <th>median_weekly_earnings_in_2018</th>\n",
       "      <th>median_weekly_earnings_in_2017</th>\n",
       "      <th>median_weekly_earnings_in_2016</th>\n",
       "      <th>gender</th>\n",
       "    </tr>\n",
       "    <tr>\n",
       "      <th>id</th>\n",
       "      <th></th>\n",
       "      <th></th>\n",
       "      <th></th>\n",
       "      <th></th>\n",
       "      <th></th>\n",
       "    </tr>\n",
       "  </thead>\n",
       "  <tbody>\n",
       "    <tr>\n",
       "      <th>0</th>\n",
       "      <td>Men, 25 years and over</td>\n",
       "      <td>1026</td>\n",
       "      <td>996</td>\n",
       "      <td>969</td>\n",
       "      <td>Male</td>\n",
       "    </tr>\n",
       "    <tr>\n",
       "      <th>1</th>\n",
       "      <td>Less than a high school diploma</td>\n",
       "      <td>607</td>\n",
       "      <td>584</td>\n",
       "      <td>551</td>\n",
       "      <td>Male</td>\n",
       "    </tr>\n",
       "    <tr>\n",
       "      <th>2</th>\n",
       "      <td>High school graduates, no college(3)</td>\n",
       "      <td>819</td>\n",
       "      <td>797</td>\n",
       "      <td>769</td>\n",
       "      <td>Male</td>\n",
       "    </tr>\n",
       "    <tr>\n",
       "      <th>3</th>\n",
       "      <td>Some college or associate degree</td>\n",
       "      <td>951</td>\n",
       "      <td>917</td>\n",
       "      <td>896</td>\n",
       "      <td>Male</td>\n",
       "    </tr>\n",
       "    <tr>\n",
       "      <th>4</th>\n",
       "      <td>Some college, no degree</td>\n",
       "      <td>918</td>\n",
       "      <td>886</td>\n",
       "      <td>861</td>\n",
       "      <td>Male</td>\n",
       "    </tr>\n",
       "  </tbody>\n",
       "</table>\n",
       "</div>"
      ],
      "text/plain": [
       "                         education_level  median_weekly_earnings_in_2018  \\\n",
       "id                                                                         \n",
       "0                 Men, 25 years and over                            1026   \n",
       "1        Less than a high school diploma                             607   \n",
       "2   High school graduates, no college(3)                             819   \n",
       "3       Some college or associate degree                             951   \n",
       "4                Some college, no degree                             918   \n",
       "\n",
       "    median_weekly_earnings_in_2017  median_weekly_earnings_in_2016 gender  \n",
       "id                                                                         \n",
       "0                              996                             969   Male  \n",
       "1                              584                             551   Male  \n",
       "2                              797                             769   Male  \n",
       "3                              917                             896   Male  \n",
       "4                              886                             861   Male  "
      ]
     },
     "execution_count": 107,
     "metadata": {},
     "output_type": "execute_result"
    }
   ],
   "source": [
    "pay_gap_by_education = pay_gap_by_education.rename(columns ={'By education': 'education_level',\n",
    "                               'Median weekly earnings in 2018': 'median_weekly_earnings_in_2018',\n",
    "                               'Median weekly earnings in 2017': 'median_weekly_earnings_in_2017',\n",
    "                               'Median weekly earnings in 2016': 'median_weekly_earnings_in_2016',\n",
    "                                                            'Gender':'gender'})\n",
    "pay_gap_by_education.head()"
   ]
  },
  {
   "cell_type": "code",
   "execution_count": 108,
   "metadata": {},
   "outputs": [
    {
     "data": {
      "text/plain": [
       "education_level                   object\n",
       "median_weekly_earnings_in_2018     int64\n",
       "median_weekly_earnings_in_2017     int64\n",
       "median_weekly_earnings_in_2016     int64\n",
       "gender                            object\n",
       "dtype: object"
      ]
     },
     "execution_count": 108,
     "metadata": {},
     "output_type": "execute_result"
    }
   ],
   "source": [
    "pay_gap_by_education.dtypes"
   ]
  },
  {
   "cell_type": "code",
   "execution_count": 109,
   "metadata": {},
   "outputs": [],
   "source": [
    " # Use pd.to_numeric() method to convert the datatype of the Amount column\n",
    "pay_gap_by_education['median_weekly_earnings_in_2018'] = pd.to_numeric(pay_gap_by_education['median_weekly_earnings_in_2018'])"
   ]
  },
  {
   "cell_type": "code",
   "execution_count": 110,
   "metadata": {},
   "outputs": [
    {
     "data": {
      "text/plain": [
       "['education_level',\n",
       " 'median_weekly_earnings_in_2018',\n",
       " 'median_weekly_earnings_in_2017',\n",
       " 'median_weekly_earnings_in_2016',\n",
       " 'gender']"
      ]
     },
     "execution_count": 110,
     "metadata": {},
     "output_type": "execute_result"
    }
   ],
   "source": [
    "list(pay_gap_by_education.columns)"
   ]
  },
  {
   "cell_type": "code",
   "execution_count": 111,
   "metadata": {},
   "outputs": [],
   "source": [
    "engine = create_engine('postgresql://postgres:'+ password + '@localhost:5432/gender_pay_gap')"
   ]
  },
  {
   "cell_type": "code",
   "execution_count": 112,
   "metadata": {},
   "outputs": [
    {
     "name": "stdout",
     "output_type": "stream",
     "text": [
      "immutabledict({'pay_gap_by_race': Table('pay_gap_by_race', MetaData(bind=None), Column('id', INTEGER(), table=<pay_gap_by_race>, primary_key=True, nullable=False), Column('categoryindex', VARCHAR(length=50), table=<pay_gap_by_race>, nullable=False), Column('category', VARCHAR(length=50), table=<pay_gap_by_race>), Column('total_workers', INTEGER(), table=<pay_gap_by_race>), Column('median_weekly_earnings', INTEGER(), table=<pay_gap_by_race>), Column('year', INTEGER(), table=<pay_gap_by_race>), schema=None), 'pay_gap_by_education': Table('pay_gap_by_education', MetaData(bind=None), Column('id', INTEGER(), table=<pay_gap_by_education>, primary_key=True, nullable=False), Column('education_level', VARCHAR(length=50), table=<pay_gap_by_education>, nullable=False), Column('median_weekly_earnings_in_2018', INTEGER(), table=<pay_gap_by_education>), Column('median_weekly_earnings_in_2017', INTEGER(), table=<pay_gap_by_education>), Column('median_weekly_earnings_in_2016', INTEGER(), table=<pay_gap_by_education>), Column('gender', VARCHAR(length=50), table=<pay_gap_by_education>), schema=None)})\n"
     ]
    }
   ],
   "source": [
    "#engine.table_names()\n",
    "metadata = MetaData()\n",
    "metadata.reflect(bind=engine)\n",
    "print(metadata.tables)"
   ]
  },
  {
   "cell_type": "code",
   "execution_count": 113,
   "metadata": {},
   "outputs": [],
   "source": [
    "pay_gap_by_education.to_sql(name='pay_gap_by_education', con=engine, if_exists='append', index=True)"
   ]
  },
  {
   "cell_type": "code",
   "execution_count": null,
   "metadata": {},
   "outputs": [],
   "source": []
  }
 ],
 "metadata": {
  "kernelspec": {
   "display_name": "Python 3",
   "language": "python",
   "name": "python3"
  },
  "language_info": {
   "codemirror_mode": {
    "name": "ipython",
    "version": 3
   },
   "file_extension": ".py",
   "mimetype": "text/x-python",
   "name": "python",
   "nbconvert_exporter": "python",
   "pygments_lexer": "ipython3",
   "version": "3.7.3"
  }
 },
 "nbformat": 4,
 "nbformat_minor": 2
}
